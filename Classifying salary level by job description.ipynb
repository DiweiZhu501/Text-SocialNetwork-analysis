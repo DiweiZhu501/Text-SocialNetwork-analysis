{
 "cells": [
  {
   "cell_type": "markdown",
   "id": "12df393d",
   "metadata": {},
   "source": [
    "## Author: Diwei Zhu"
   ]
  },
  {
   "cell_type": "markdown",
   "id": "f30103b9",
   "metadata": {},
   "source": [
    "- Text analysis project\n",
    "- Classify salary level based on job descriptions with Naive Bayes classifier\n",
    "- Identify top 10 effective keywords in indicating high and low salary respectively (most imfroamtive features)\n",
    "- high salary: above 75% of all datapoints"
   ]
  },
  {
   "cell_type": "code",
   "execution_count": 17,
   "id": "2142873b",
   "metadata": {},
   "outputs": [],
   "source": [
    "import pandas as pd\n",
    "import numpy as np\n",
    "import random\n",
    "\n",
    "import nltk\n",
    "# nltk.download('punkt')\n",
    "from nltk.tokenize import word_tokenize\n",
    "# nltk.download('stopwords')\n",
    "from nltk.corpus import stopwords\n",
    "# nltk.download('wordnet')\n",
    "from nltk.stem import WordNetLemmatizer\n",
    "\n",
    "from sklearn.metrics import confusion_matrix\n",
    "import seaborn as sns\n",
    "import matplotlib.pyplot as plt"
   ]
  },
  {
   "cell_type": "code",
   "execution_count": 2,
   "id": "58706266",
   "metadata": {},
   "outputs": [
    {
     "data": {
      "text/html": [
       "<div>\n",
       "<style scoped>\n",
       "    .dataframe tbody tr th:only-of-type {\n",
       "        vertical-align: middle;\n",
       "    }\n",
       "\n",
       "    .dataframe tbody tr th {\n",
       "        vertical-align: top;\n",
       "    }\n",
       "\n",
       "    .dataframe thead th {\n",
       "        text-align: right;\n",
       "    }\n",
       "</style>\n",
       "<table border=\"1\" class=\"dataframe\">\n",
       "  <thead>\n",
       "    <tr style=\"text-align: right;\">\n",
       "      <th></th>\n",
       "      <th>FullDescription</th>\n",
       "      <th>SalaryNormalized</th>\n",
       "    </tr>\n",
       "  </thead>\n",
       "  <tbody>\n",
       "    <tr>\n",
       "      <th>179687</th>\n",
       "      <td>SAS Administrator  London  ****k My client, ar...</td>\n",
       "      <td>50000</td>\n",
       "    </tr>\n",
       "    <tr>\n",
       "      <th>18497</th>\n",
       "      <td>Job Title: Retail Director Location: Midlands ...</td>\n",
       "      <td>97500</td>\n",
       "    </tr>\n",
       "    <tr>\n",
       "      <th>86382</th>\n",
       "      <td>Private Client Solicitor  2 years PQE  East Gr...</td>\n",
       "      <td>40000</td>\n",
       "    </tr>\n",
       "    <tr>\n",
       "      <th>12805</th>\n",
       "      <td>****mh**** Devon &amp; Cornwall Excellent opportun...</td>\n",
       "      <td>22000</td>\n",
       "    </tr>\n",
       "    <tr>\n",
       "      <th>203497</th>\n",
       "      <td>Position: White Goods/Domestic Appliance Engin...</td>\n",
       "      <td>24000</td>\n",
       "    </tr>\n",
       "  </tbody>\n",
       "</table>\n",
       "</div>"
      ],
      "text/plain": [
       "                                          FullDescription  SalaryNormalized\n",
       "179687  SAS Administrator  London  ****k My client, ar...             50000\n",
       "18497   Job Title: Retail Director Location: Midlands ...             97500\n",
       "86382   Private Client Solicitor  2 years PQE  East Gr...             40000\n",
       "12805   ****mh**** Devon & Cornwall Excellent opportun...             22000\n",
       "203497  Position: White Goods/Domestic Appliance Engin...             24000"
      ]
     },
     "execution_count": 2,
     "metadata": {},
     "output_type": "execute_result"
    }
   ],
   "source": [
    "raw = pd.read_csv(\"C:/Users/admin/Desktop/Train_rev1.csv\")\n",
    "\n",
    "# keep only two columns useful to us\n",
    "df = raw[[\"FullDescription\",\"SalaryNormalized\"]]\n",
    "df = df.dropna()\n",
    "\n",
    "# randomly select 2500 data points\n",
    "sample = df.sample(n=2500, random_state = 1)\n",
    "sample.head(5)"
   ]
  },
  {
   "cell_type": "code",
   "execution_count": 3,
   "id": "2d817024",
   "metadata": {},
   "outputs": [
    {
     "data": {
      "text/plain": [
       "(2500, 2)"
      ]
     },
     "execution_count": 3,
     "metadata": {},
     "output_type": "execute_result"
    }
   ],
   "source": [
    "sample.shape"
   ]
  },
  {
   "cell_type": "code",
   "execution_count": 4,
   "id": "fa2c5e1e",
   "metadata": {},
   "outputs": [
    {
     "name": "stdout",
     "output_type": "stream",
     "text": [
      "Low salary: income below $41000.0\n",
      "High salary: income above $41000.0\n"
     ]
    }
   ],
   "source": [
    "# get percentiles\n",
    "threshold = sample.SalaryNormalized.quantile(0.75)\n",
    "print(\"Low salary: income below $\"+str(threshold))\n",
    "print(\"High salary: income above $\"+str(threshold))\n",
    "\n",
    "# label the dataset based on the salary threshold\n",
    "# drop salary column\n",
    "sample['Label'] = np.where(sample['SalaryNormalized'] >= threshold, 1, 0)\n",
    "sample = sample.drop(columns = ['SalaryNormalized'])"
   ]
  },
  {
   "cell_type": "code",
   "execution_count": 18,
   "id": "7b4a9314",
   "metadata": {},
   "outputs": [],
   "source": [
    "# importing and customizing stop words\n",
    "stop_words = stopwords.words('english')\n",
    "stop_words.extend(['a','b','c','d','e','f','g','h','i','j','k','l','m','n','o','p','q','r','s','t','u','v','w','x','y','z',',','.','!',':',';',')','(','*','&','/','wcf','gcse','mi','rgn','qts'])"
   ]
  },
  {
   "cell_type": "code",
   "execution_count": 19,
   "id": "4ede150b",
   "metadata": {},
   "outputs": [],
   "source": [
    "# Tokenization\n",
    "total = []\n",
    "for i in sample[\"FullDescription\"]:\n",
    "    text = word_tokenize(i)\n",
    "    text1 = []\n",
    "    for i in range(len(text)):\n",
    "        text1.append(text[i].lower())\n",
    "    total.append(text1)"
   ]
  },
  {
   "cell_type": "code",
   "execution_count": 20,
   "id": "a841ca7b",
   "metadata": {},
   "outputs": [],
   "source": [
    "# A long list of tokenized words for generating word frequency, lemmatized and removed stop words\n",
    "wl = WordNetLemmatizer()\n",
    "\n",
    "total_cleaned = []\n",
    "\n",
    "for i in range(len(total)):\n",
    "    text = total[i]\n",
    "    text1 = [word for word in text if word not in stop_words]\n",
    "    for word in text1:\n",
    "        word1 = wl.lemmatize(word)\n",
    "        total_cleaned.append(word1)"
   ]
  },
  {
   "cell_type": "code",
   "execution_count": 21,
   "id": "76ccd1ae",
   "metadata": {},
   "outputs": [
    {
     "name": "stdout",
     "output_type": "stream",
     "text": [
      "size of the array: (2500, 2)\n",
      "tokenized first description: ['sa', 'administrator', 'london', 'client', 'specialist', 'life', 'pension', 'organisation', 'require', 'sa', 'administrator', 'maintain', 'administer', 'sa', 'application', 'across', 'business', 'sa', 'administrator', 'provide', 'key', 'technology', 'support', 'maintenance', 'implementation', 'wider', 'organisation', 'business', 'partner', 'sa', 'related', 'development', 'development', 'support', 'service', 'responsible', 'daytoday', 'administration', 'sa', 'platform', 'ensure', 'user', 'correct', 'access', 'right', 'clearly', 'defined', 'logical', 'security', 'model', 'constantly', 'monitor', 'model', 'ensure', 'relevance', 'business', 'maintained', 'business', 'solution', 'project', 'fundamental', 'understanding', 'sa', 'metadata', 'defined', 'accessed', 'managed', 'securely', 'maintain', 'system', 'integrity', 'performance', 'planning', 'maintenance', 'governance', 'highly', 'structured', 'thinker', 'excellent', 'planning', 'organisational', 'skill', 'understands', 'importance', 'correct', 'process', 'procedure', 'sa', 'security', 'adheres', 'standard', 'ensure', 'system', 'performance', 'integrity', 'however', 'need', 'flexible', 'responsive', 'change', 'actively', 'promote', 'philosophy', 'continuous', 'improvement', 'key', 'skill', 'strong', 'experience', 'using', 'variety', 'sa', 'product', 'solution', 'e.g', 'base', 'sa', 'sa', 'enterprise', 'guide', 'sa', 'di', 'studio', 'sa', 'bi', 'suite', 'e.g', 'wrs', 'portal', 'olap', 'stored', 'process', 'sas/graph', 'etc', 'good', 'experience', 'sa', 'administration', 'complex', 'sa', 'environment', 'operational', 'role', 'platform', 'administration', 'e.g', 'management', 'console', 'security', 'modelling', 'promotion', 'replication', 'environment', 'etc', 'good', 'use', 'base', 'sa', 'sa', 'metadata', 'experience', 'building', 'managing', 'sa', 'dev', 'test', 'prod', 'environment', 'role', 'sa', 'administrator', 'location', 'london', 'salary', 'annapurna', 'acting', 'recruitment', 'agency', 'relation', 'role', 'job', 'originally', 'posted', 'www.cwjobs.co.uk/jobseeking/sasadministratorlondon', 'k_job']\n",
      "salary label of the first description: high\n"
     ]
    },
    {
     "name": "stderr",
     "output_type": "stream",
     "text": [
      "C:\\ProgramData\\Anaconda3\\lib\\site-packages\\numpy\\core\\_asarray.py:102: VisibleDeprecationWarning: Creating an ndarray from ragged nested sequences (which is a list-or-tuple of lists-or-tuples-or ndarrays with different lengths or shapes) is deprecated. If you meant to do this, you must specify 'dtype=object' when creating the ndarray.\n",
      "  return array(a, dtype, copy=False, order=order)\n"
     ]
    }
   ],
   "source": [
    "# A 2D array containing tokenized words and labels, used as the document for train and test\n",
    "# lemmatized and removed stop words\n",
    "doc = []\n",
    "\n",
    "for i in range(len(total)):\n",
    "    text = total[i]\n",
    "    text1 = [word for word in text if word not in stop_words]\n",
    "    text2 = []\n",
    "    for word in text1:\n",
    "        word1 = wl.lemmatize(word)\n",
    "        text2.append(word1)\n",
    "    if sample['Label'].iloc[i] == 0:\n",
    "        doc.append([text2,'low'])\n",
    "    else:\n",
    "        doc.append([text2,'high'])\n",
    "\n",
    "print(\"size of the array:\", np.shape(doc))\n",
    "print(\"tokenized first description:\", doc[0][0])\n",
    "print(\"salary label of the first description:\", doc[0][1])"
   ]
  },
  {
   "cell_type": "code",
   "execution_count": 22,
   "id": "2d03710d",
   "metadata": {},
   "outputs": [
    {
     "name": "stdout",
     "output_type": "stream",
     "text": [
      "top 10 common words: ['experience', 'role', 'team', 'work', 'client', 'business', 'service', 'skill', 'working', 'within']\n"
     ]
    }
   ],
   "source": [
    "# Identify the most common 2000 words\n",
    "from collections import Counter\n",
    "c = Counter(total_cleaned)\n",
    "c_2000 = c.most_common(2000)\n",
    "\n",
    "word_features = []\n",
    "for i in c_2000:\n",
    "    word = i[0]\n",
    "    word_features.append(word)\n",
    "\n",
    "print(\"top 10 common words:\", word_features[0:10])"
   ]
  },
  {
   "cell_type": "code",
   "execution_count": 23,
   "id": "017f5347",
   "metadata": {},
   "outputs": [],
   "source": [
    "# Train classifier\n",
    "def document_features(document):\n",
    "    document_words = set(document)\n",
    "    features = {}\n",
    "    for word in word_features:\n",
    "        features['contains({})'.format(word)] = (word in document_words)\n",
    "    return features\n",
    "\n",
    "featuresets = [(document_features(d), c) for (d,c) in doc]\n",
    "\n",
    "# 80% training set & 20% testing set\n",
    "random.shuffle(featuresets)\n",
    "train_set, test_set = featuresets[:2000], featuresets[2001:]\n",
    "\n",
    "classifier = nltk.NaiveBayesClassifier.train(train_set)"
   ]
  },
  {
   "cell_type": "code",
   "execution_count": 24,
   "id": "1b67724a",
   "metadata": {},
   "outputs": [
    {
     "name": "stdout",
     "output_type": "stream",
     "text": [
      "0.7775551102204409\n"
     ]
    }
   ],
   "source": [
    "# Accuracy\n",
    "print(nltk.classify.accuracy(classifier, test_set))"
   ]
  },
  {
   "cell_type": "code",
   "execution_count": 25,
   "id": "ad0a1c53",
   "metadata": {},
   "outputs": [
    {
     "name": "stdout",
     "output_type": "stream",
     "text": [
      "Most Informative Features\n",
      "        contains(school) = True              low : high   =     14.4 : 1.0\n",
      "        contains(friday) = True              low : high   =     13.2 : 1.0\n",
      "      contains(offshore) = True             high : low    =     11.9 : 1.0\n",
      "  contains(architecture) = True             high : low    =     10.0 : 1.0\n",
      "        contains(monday) = True              low : high   =      9.7 : 1.0\n",
      "     contains(architect) = True             high : low    =      9.7 : 1.0\n",
      "          contains(unix) = True             high : low    =      9.7 : 1.0\n",
      "         contains(enjoy) = True              low : high   =      9.5 : 1.0\n",
      "    contains(governance) = True             high : low    =      8.5 : 1.0\n",
      "        contains(define) = True             high : low    =      8.2 : 1.0\n",
      "contains(telecommunication) = True             high : low    =      7.7 : 1.0\n",
      "            contains(ui) = True             high : low    =      7.7 : 1.0\n",
      "      contains(teaching) = True              low : high   =      7.7 : 1.0\n",
      "       contains(weekend) = True              low : high   =      7.7 : 1.0\n",
      "   contains(enhancement) = True             high : low    =      7.7 : 1.0\n",
      "      contains(february) = True              low : high   =      7.3 : 1.0\n",
      "          contains(food) = True              low : high   =      7.2 : 1.0\n",
      "      contains(saturday) = True              low : high   =      6.9 : 1.0\n",
      "     contains(assistant) = True              low : high   =      6.7 : 1.0\n",
      "       contains(arrange) = True              low : high   =      6.7 : 1.0\n",
      "           contains(bar) = True              low : high   =      6.7 : 1.0\n",
      "       contains(correct) = True              low : high   =      6.7 : 1.0\n",
      "         contains(scrum) = True             high : low    =      6.5 : 1.0\n",
      "     contains(behaviour) = True              low : high   =      6.3 : 1.0\n",
      "          contains(meal) = True              low : high   =      6.2 : 1.0\n",
      "        contains(mental) = True              low : high   =      6.2 : 1.0\n",
      "      contains(firewall) = True             high : low    =      6.1 : 1.0\n",
      "      contains(incoming) = True              low : high   =      6.0 : 1.0\n",
      "     contains(telephone) = True              low : high   =      5.9 : 1.0\n",
      "       contains(execute) = True             high : low    =      5.9 : 1.0\n",
      "       contains(invoice) = True              low : high   =      5.7 : 1.0\n",
      "     contains(machinery) = True              low : high   =      5.7 : 1.0\n",
      "          contains(chef) = True              low : high   =      5.6 : 1.0\n",
      "          contains(fire) = True              low : high   =      5.5 : 1.0\n",
      "        contains(united) = True              low : high   =      5.5 : 1.0\n",
      "           contains(jam) = True             high : low    =      5.5 : 1.0\n",
      "          contains(java) = True             high : low    =      5.3 : 1.0\n",
      "       contains(hosting) = True             high : low    =      5.3 : 1.0\n",
      "       contains(kitchen) = True              low : high   =      5.3 : 1.0\n",
      "      contains(dementia) = True              low : high   =      5.3 : 1.0\n"
     ]
    }
   ],
   "source": [
    "# most informative features sorted\n",
    "classifier.show_most_informative_features(40)"
   ]
  },
  {
   "cell_type": "code",
   "execution_count": 28,
   "id": "22077108",
   "metadata": {},
   "outputs": [],
   "source": [
    "# generate predicted labels for testing set\n",
    "# also, get the true labels\n",
    "predict = []\n",
    "true_values = []\n",
    "for data in test_set:\n",
    "    predicted = classifier.classify(data[0])\n",
    "    predict.append(predicted)\n",
    "    true_values.append(data[1])"
   ]
  },
  {
   "cell_type": "code",
   "execution_count": 31,
   "id": "cc63f84e",
   "metadata": {},
   "outputs": [
    {
     "data": {
      "image/png": "[encoded data removed]",
      "text/plain": [
       "<Figure size 432x288 with 2 Axes>"
      ]
     },
     "metadata": {
      "needs_background": "light"
     },
     "output_type": "display_data"
    }
   ],
   "source": [
    "# confusion matrix\n",
    "\n",
    "matrix = confusion_matrix(true_values, predict)\n",
    "sns.heatmap(matrix, annot=True, cmap=\"BuPu\")\n",
    "plt.xlabel(\"True\")\n",
    "plt.ylabel(\"Prediction\")\n",
    "plt.show()"
   ]
  }
 ],
 "metadata": {
  "kernelspec": {
   "display_name": "Python 3",
   "language": "python",
   "name": "python3"
  },
  "language_info": {
   "codemirror_mode": {
    "name": "ipython",
    "version": 3
   },
   "file_extension": ".py",
   "mimetype": "text/x-python",
   "name": "python",
   "nbconvert_exporter": "python",
   "pygments_lexer": "ipython3",
   "version": "3.8.8"
  }
 },
 "nbformat": 4,
 "nbformat_minor": 5
}
